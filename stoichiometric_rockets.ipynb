{
  "nbformat": 4,
  "nbformat_minor": 0,
  "metadata": {
    "colab": {
      "provenance": [],
      "authorship_tag": "ABX9TyPJQOzhhJ+l0r84tDQm1W4T",
      "include_colab_link": true
    },
    "kernelspec": {
      "name": "python3",
      "display_name": "Python 3"
    },
    "language_info": {
      "name": "python"
    }
  },
  "cells": [
    {
      "cell_type": "markdown",
      "metadata": {
        "id": "view-in-github",
        "colab_type": "text"
      },
      "source": [
        "<a href=\"https://colab.research.google.com/github/Polux79/Ingenieria-quimica/blob/master/stoichiometric_rockets.ipynb\" target=\"_parent\"><img src=\"https://colab.research.google.com/assets/colab-badge.svg\" alt=\"Open In Colab\"/></a>"
      ]
    },
    {
      "cell_type": "code",
      "execution_count": null,
      "metadata": {
        "id": "bSgcy2WAWVb0"
      },
      "outputs": [],
      "source": [
        "#pip install chempy"
      ]
    },
    {
      "cell_type": "code",
      "source": [
        "from chempy import balance_stoichiometry  # Reacción principal en los cohetes propulsores de la NASA\n",
        "from pprint import pprint\n",
        "from chempy import mass_fractions"
      ],
      "metadata": {
        "id": "oA0GuIeRWydR"
      },
      "execution_count": 22,
      "outputs": []
    },
    {
      "cell_type": "code",
      "source": [
        "# Selección de la reacción a balancear\n",
        "reac, prod = balance_stoichiometry({'NH4ClO4', 'Al'}, {'Al2O3', 'HCl', 'H2O', 'N2'})"
      ],
      "metadata": {
        "id": "qfxjzwxLYLrR"
      },
      "execution_count": 23,
      "outputs": []
    },
    {
      "cell_type": "code",
      "source": [
        "# Imprime los coeficientes de los reactivos\n",
        "pprint(dict(reac))"
      ],
      "metadata": {
        "colab": {
          "base_uri": "https://localhost:8080/"
        },
        "id": "rY0RiBybYQ5p",
        "outputId": "789cc669-bbda-4926-bfae-07a7643a2bd0"
      },
      "execution_count": 24,
      "outputs": [
        {
          "output_type": "stream",
          "name": "stdout",
          "text": [
            "{'Al': 10, 'NH4ClO4': 6}\n"
          ]
        }
      ]
    },
    {
      "cell_type": "code",
      "source": [
        "# Imprime los coeficientes de los productos\n",
        "pprint(dict(prod))"
      ],
      "metadata": {
        "colab": {
          "base_uri": "https://localhost:8080/"
        },
        "id": "KQwnXmanYY4r",
        "outputId": "9e43d9b6-d4a4-4067-911b-2b436fe7e46d"
      },
      "execution_count": 25,
      "outputs": [
        {
          "output_type": "stream",
          "name": "stdout",
          "text": [
            "{'Al2O3': 5, 'H2O': 9, 'HCl': 6, 'N2': 3}\n"
          ]
        }
      ]
    },
    {
      "cell_type": "code",
      "source": [
        "for fractions in map(mass_fractions, [reac, prod]):\n",
        "  ... pprint({k: '{0:.3g} wt%'.format(v*100) for k, v in fractions.items()})\n",
        "  ..."
      ],
      "metadata": {
        "colab": {
          "base_uri": "https://localhost:8080/",
          "height": 130
        },
        "id": "emmTvHMnYuEh",
        "outputId": "5331dd6d-cd0a-49ed-c332-5be5f26ee5a9"
      },
      "execution_count": 34,
      "outputs": [
        {
          "output_type": "error",
          "ename": "SyntaxError",
          "evalue": "ignored",
          "traceback": [
            "\u001b[0;36m  File \u001b[0;32m\"<ipython-input-34-0eaa1185976d>\"\u001b[0;36m, line \u001b[0;32m2\u001b[0m\n\u001b[0;31m    ... pprint({k: '{0:.3g} wt%'.format(v*100) for k, v in fractions.items()})\u001b[0m\n\u001b[0m        ^\u001b[0m\n\u001b[0;31mSyntaxError\u001b[0m\u001b[0;31m:\u001b[0m invalid syntax\n"
          ]
        }
      ]
    }
  ]
}