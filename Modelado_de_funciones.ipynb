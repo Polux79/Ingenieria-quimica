{
  "nbformat": 4,
  "nbformat_minor": 0,
  "metadata": {
    "colab": {
      "provenance": [],
      "authorship_tag": "ABX9TyMZUSS1dOCCw5zExbzVoT7b",
      "include_colab_link": true
    },
    "kernelspec": {
      "name": "python3",
      "display_name": "Python 3"
    },
    "language_info": {
      "name": "python"
    }
  },
  "cells": [
    {
      "cell_type": "markdown",
      "metadata": {
        "id": "view-in-github",
        "colab_type": "text"
      },
      "source": [
        "<a href=\"https://colab.research.google.com/github/Polux79/Ingenieria-quimica/blob/master/Modelado_de_funciones.ipynb\" target=\"_parent\"><img src=\"https://colab.research.google.com/assets/colab-badge.svg\" alt=\"Open In Colab\"/></a>"
      ]
    },
    {
      "cell_type": "code",
      "source": [
        "# Carga de librerías necesarias\n",
        "from math import log\n",
        "import sympy as sp\n",
        "from sympy import *\n",
        "init_printing()"
      ],
      "metadata": {
        "id": "oh2BQSTH_-W5"
      },
      "execution_count": 47,
      "outputs": []
    },
    {
      "cell_type": "markdown",
      "source": [
        "# MODELADO CON FUNCIONES EXPONENCIALES Y LOGARÍTMICAS\n",
        "\n",
        "**Ejemplo 1** .- Crecimiento exponencial\n",
        "\n",
        "Predecir el tamaño de la población de bacterias si la población inicial en el cultivo es $1200$. Luego, se realiza un cuenta muestral de bacterias en el cultivo y se encuentra que la tasa de crecimiento relativo es de $28\\%$ por hora.\n",
        "1. Encuentre una función que modele el número de bacterias después de $t$ horas.\n",
        "2. ¿Cuál es la cuenta estimada después de un día?\n",
        "3. Trace la gráfica de la función $N(t)$"
      ],
      "metadata": {
        "id": "uKMpX8aA0peA"
      }
    },
    {
      "cell_type": "code",
      "execution_count": 48,
      "metadata": {
        "colab": {
          "base_uri": "https://localhost:8080/",
          "height": 52
        },
        "id": "uX885Qw20ov1",
        "outputId": "9a3ae185-c379-45cc-803d-387a6ec93135"
      },
      "outputs": [
        {
          "output_type": "display_data",
          "data": {
            "text/plain": [
              "d                0.28⋅t\n",
              "──(N(t)) = 1200⋅ℯ      \n",
              "dt                     "
            ],
            "text/latex": "$\\displaystyle \\frac{d}{d t} N{\\left(t \\right)} = 1200 e^{0.28 t}$"
          },
          "metadata": {}
        }
      ],
      "source": [
        "#Declaración de variables\n",
        "t = sp.symbols('t')  # horas\n",
        "y = sp.Function('N') # Cantidad de bacterias\n",
        "\n",
        "Ecuacion = Eq(y(t).diff(), 1200*exp(0.28*t))\n",
        "#Presentación de las ecuaciones resueltas\n",
        "display(Ecuacion)"
      ]
    },
    {
      "cell_type": "code",
      "source": [
        "# Evaluación de N(t) para t = 24 horas, presentación de resultados con 6 cifras significativas\n",
        "display(Ecuacion.subs(t,24).rhs.evalf(6))\n",
        "\n",
        "# Gráfico de la función ---> hasta t = 30 horas\n",
        "sp.plot(Ecuacion.rhs,(t,0,30), line_color='b',ylabel='Cantidad (bacterias)', xlabel='Tiempo (h)')"
      ],
      "metadata": {
        "colab": {
          "base_uri": "https://localhost:8080/",
          "height": 523
        },
        "id": "HHVoa-4pMC_V",
        "outputId": "b9e54e04-6f29-48be-929d-09dff8cf67b6"
      },
      "execution_count": 49,
      "outputs": [
        {
          "output_type": "display_data",
          "data": {
            "text/plain": [
              "994581."
            ],
            "text/latex": "$\\displaystyle 994581.0$"
          },
          "metadata": {}
        },
        {
          "output_type": "display_data",
          "data": {
            "text/plain": [
              "<Figure size 640x480 with 1 Axes>"
            ],
            "image/png": "[encoded data removed]"
          },
          "metadata": {}
        },
        {
          "output_type": "execute_result",
          "data": {
            "text/plain": [
              "<sympy.plotting.plot.Plot at 0x7e8a2ff1bb20>"
            ]
          },
          "metadata": {},
          "execution_count": 49
        }
      ]
    },
    {
      "cell_type": "markdown",
      "source": [
        "\n",
        "\n",
        "---\n",
        "\n"
      ],
      "metadata": {
        "id": "tgzSuB03s3Sh"
      }
    },
    {
      "cell_type": "markdown",
      "source": [
        "**Ejemplo 2** .- Crecimiento exponencial\n",
        "\n",
        "En el pueblo de Soyocyatamjurpacusitac, la población en 1970 fue de $170000$ habitantes y en 1990 de $210000$. ¿Cuál será la población el año 2010?"
      ],
      "metadata": {
        "id": "1iDLeDMqZPQA"
      }
    },
    {
      "cell_type": "code",
      "source": [
        "def calcular_tasa_crecimiento(No, N, t):\n",
        "    try:\n",
        "        r = log(N / No) / t\n",
        "        return round(r, 4)\n",
        "\n",
        "    except ZeroDivisionError:\n",
        "        print(\"Error: El tiempo transcurrido no puede ser cero.\")\n",
        "        return None\n",
        "    except ValueError:\n",
        "        print(\"Error: Ingrese valores numéricos válidos.\")\n",
        "        return None\n",
        "\n",
        "# Ejemplo de uso\n",
        "No = float(input(\"Ingrese el valor inicial de la población: \"))\n",
        "N = float(input(\"Ingrese el valor final de la población: \"))\n",
        "t = float(input(\"Ingrese el tiempo transcurrido entre N y No: \"))\n",
        "\n",
        "tasa_crecimiento = calcular_tasa_crecimiento(No, N, t)\n",
        "\n",
        "if tasa_crecimiento is not None:\n",
        "    print(f\"La tasa de crecimiento es: {tasa_crecimiento}\")"
      ],
      "metadata": {
        "colab": {
          "base_uri": "https://localhost:8080/"
        },
        "id": "UOELzp87k6m7",
        "outputId": "57a6b1d3-d458-48e7-888e-4db80c22432c"
      },
      "execution_count": 77,
      "outputs": [
        {
          "output_type": "stream",
          "name": "stdout",
          "text": [
            "Ingrese el valor inicial de la población: 170000\n",
            "Ingrese el valor final de la población: 210000\n",
            "Ingrese el tiempo transcurrido entre N y No: 20\n",
            "La tasa de crecimiento es: 0.0106\n"
          ]
        }
      ]
    },
    {
      "cell_type": "code",
      "source": [
        "#Declaración de variables\n",
        "t = sp.symbols('t')  # horas\n",
        "y = sp.Function('N') # Cantidad de pobladores\n",
        "\n",
        "Ecuacion = Eq(y(t).diff(), 170000*exp(tasa_crecimiento*t))\n",
        "\n",
        "#Presentación de la ecuación resuelta\n",
        "display(Ecuacion)"
      ],
      "metadata": {
        "colab": {
          "base_uri": "https://localhost:8080/",
          "height": 52
        },
        "id": "m_w3oY3ImGU8",
        "outputId": "5d887c2d-ef63-47cc-d3b1-9b497ec58f2a"
      },
      "execution_count": 80,
      "outputs": [
        {
          "output_type": "display_data",
          "data": {
            "text/plain": [
              "d                  0.0106⋅t\n",
              "──(N(t)) = 170000⋅ℯ        \n",
              "dt                         "
            ],
            "text/latex": "$\\displaystyle \\frac{d}{d t} N{\\left(t \\right)} = 170000 e^{0.0106 t}$"
          },
          "metadata": {}
        }
      ]
    },
    {
      "cell_type": "code",
      "source": [
        "# Evaluación de N(t) para t = 40 años, presentación de resultados con 6 cifras significativas\n",
        "display(Ecuacion.subs(t,40).rhs.evalf(6))"
      ],
      "metadata": {
        "colab": {
          "base_uri": "https://localhost:8080/",
          "height": 37
        },
        "id": "ED_1GQOursb9",
        "outputId": "2bd9f549-0566-4ccf-b5a3-e6080b589cbb"
      },
      "execution_count": 93,
      "outputs": [
        {
          "output_type": "display_data",
          "data": {
            "text/plain": [
              "259744."
            ],
            "text/latex": "$\\displaystyle 259744.0$"
          },
          "metadata": {}
        }
      ]
    },
    {
      "cell_type": "markdown",
      "source": [
        "\n",
        "\n",
        "---\n",
        "\n"
      ],
      "metadata": {
        "id": "aQrQ0c6Os6j4"
      }
    },
    {
      "cell_type": "markdown",
      "source": [
        "**Ejemplo 3** .- Decaimiento radiactivo\n",
        "\n",
        "Utilizado en química, para determinar la cantidad de material radiactivo que va quedando (decaimiento espontáneo) conforme transcurre el tiempo. La tasa de decaimiento es directamente proporcional a la masa de la sustancia, es decir, la masa de material reactivo disminuye. Sea $N(t)$, la cantidad de sustancia radiactiva ($masa$) que permanece en el tiempo $t$, $r$ es la tasa de decaimiento como una proporción de la masa, se calculo como el cociente del $ln $ $2$ dividido entre la *vida media* del material reactivo $t_{1/2}$, es decir, $r = \\frac{ln 2}{t_{1/2}}$ y $N_o$ es una constante que indica la cantidad de material radiactivo inicial en el $t = 0$, se cumple, $N(0) = N_o$, el signo negativo representa la disminución de la cantidad $N$, conforme transcurre el tiempo. La masa experimenta un decaimiento exponencial, disminuye según el modelo:   $N(t) = N_oe^{-rt}$\n"
      ],
      "metadata": {
        "id": "k-rqCRgos-_x"
      }
    },
    {
      "cell_type": "code",
      "source": [],
      "metadata": {
        "id": "aZVB7DvnwmpA"
      },
      "execution_count": null,
      "outputs": []
    }
  ]
}