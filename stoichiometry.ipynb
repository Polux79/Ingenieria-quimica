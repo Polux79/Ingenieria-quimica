{
  "nbformat": 4,
  "nbformat_minor": 0,
  "metadata": {
    "colab": {
      "provenance": [],
      "authorship_tag": "ABX9TyN7XKdTuUZRYYL3eIUTvnjv",
      "include_colab_link": true
    },
    "kernelspec": {
      "name": "python3",
      "display_name": "Python 3"
    },
    "language_info": {
      "name": "python"
    }
  },
  "cells": [
    {
      "cell_type": "markdown",
      "metadata": {
        "id": "view-in-github",
        "colab_type": "text"
      },
      "source": [
        "<a href=\"https://colab.research.google.com/github/Polux79/Ingenieria-quimica/blob/master/stoichiometry.ipynb\" target=\"_parent\"><img src=\"https://colab.research.google.com/assets/colab-badge.svg\" alt=\"Open In Colab\"/></a>"
      ]
    },
    {
      "cell_type": "code",
      "source": [
        "pip install chemics # Instalación del paquete chemics"
      ],
      "metadata": {
        "id": "ZtlUeVHxEW6E"
      },
      "execution_count": null,
      "outputs": []
    },
    {
      "cell_type": "code",
      "execution_count": 10,
      "metadata": {
        "colab": {
          "base_uri": "https://localhost:8080/"
        },
        "id": "Eqh9nO7HEASy",
        "outputId": "b32f49d5-4f39-4cfd-def6-9edfed1e9208"
      },
      "outputs": [
        {
          "output_type": "stream",
          "name": "stdout",
          "text": [
            "Reactivos\n",
            "          Cu(NO3)2         K\n",
            "moles          1.0       2.0\n",
            "species   Cu(NO3)2         K\n",
            "molwt      187.554    39.098\n",
            "mass       187.554    78.196\n",
            "molfrac   0.333333  0.666667\n",
            "massfrac  0.705754  0.294246\n",
            "Productos\n",
            "              KNO3        Cu\n",
            "moles          2.0       1.0\n",
            "species       KNO3        Cu\n",
            "molwt      101.102    63.546\n",
            "mass       202.204    63.546\n",
            "molfrac   0.666667  0.333333\n",
            "massfrac  0.760881  0.239119\n"
          ]
        }
      ],
      "source": [
        "import chemics as cm\n",
        "\n",
        "#ce = cm.ChemicalEquation('2 HCl + 2 Na -> 2 NaCl + H2')\n",
        "ce = cm.ChemicalEquation('Cu(NO3)2 + 2 K -> 2 KNO3 + Cu')\n",
        "\n",
        "ce.balance  # Retorna True para una ecuación balanceada\n",
        "\n",
        "ce.rct_properties # Presenta un cuadro con las propiedades de los reactivos\n",
        "\n",
        "ce.prod_properties # Presenta un cuadro con las propiedades de los reactivos\n",
        "\n",
        "print(\"Reactivos\")\n",
        "print(ce.rct_properties)\n",
        "\n",
        "print (\"Productos\")\n",
        "print (ce.prod_properties)"
      ]
    }
  ]
}